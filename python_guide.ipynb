{
 "cells": [
  {
   "cell_type": "markdown",
   "id": "c0d7b698c0b9b73c",
   "metadata": {},
   "source": [
    "# Python Backpack Exchange API Guide\n"
   ]
  },
  {
   "cell_type": "markdown",
   "id": "d21f811dc9a48d7a",
   "metadata": {},
   "source": [
    "## Prerequisites\n",
    "\n",
    "Get your API keys if you are going to use account endpoints: https://backpack.exchange/portfolio/settings/api-keys\n"
   ]
  },
  {
   "cell_type": "markdown",
   "id": "e17846c2d5d4e74a",
   "metadata": {},
   "source": [
    "Install the required Python libraries:\n",
    "\n",
    "* cryptography – for X-Signature ([account endpoints](https://docs.backpack.exchange/#tag/Account) only)\n",
    "* requests – for making HTTP requests (or aiohttp if you prefer async)\n"
   ]
  },
  {
   "cell_type": "code",
   "execution_count": null,
   "id": "52f843f90854bb62",
   "metadata": {},
   "outputs": [],
   "source": [
    "pip3 install cryptography requests \n"
   ]
  },
  {
   "cell_type": "markdown",
   "id": "97a3f39c44ec0f1f",
   "metadata": {},
   "source": [
    "Install dotenv-python to securely manage your keys using environment variables if you are going to use [account endpoints](https://docs.backpack.exchange/#tag/Account)\n"
   ]
  },
  {
   "cell_type": "code",
   "execution_count": null,
   "id": "a3b609a3ab64cf7a",
   "metadata": {},
   "outputs": [],
   "source": [
    "pip3 install python-dotenv\n"
   ]
  },
  {
   "cell_type": "markdown",
   "id": "ab61c058fce5d5dc",
   "metadata": {},
   "source": [
    "Create a .env file and store your keys like this:\n",
    "\n",
    "```\n",
    "PUBLIC_KEY=zDIJj9qneWIY0IYZ5aXoHcNMCm+XDhVcTssiT0HyY0A=\n",
    "SECRET_KEY=4odxgSUxFrC/zsKWZF4OQwYAgnNu9hnWH3NxWfLAPz4=\n",
    "```\n"
   ]
  },
  {
   "cell_type": "markdown",
   "id": "b20903f7fe9a7b74",
   "metadata": {},
   "source": [
    "Create a .gitignore file and add .env to exclude it from version control.\n",
    "```\n",
    ".env\n",
    "```\n"
   ]
  },
  {
   "cell_type": "markdown",
   "id": "db2088b3cbc86856",
   "metadata": {},
   "source": [
    "Import the necessary libraries:\n"
   ]
  },
  {
   "cell_type": "code",
   "execution_count": null,
   "id": "789ae7de3060f38a",
   "metadata": {},
   "outputs": [],
   "source": [
    "import requests\n"
   ]
  },
  {
   "cell_type": "markdown",
   "id": "4663fe1c7ca2e252",
   "metadata": {},
   "source": [
    "## Public Endpoints\n"
   ]
  },
  {
   "cell_type": "markdown",
   "id": "d95093ca32ca49fd",
   "metadata": {},
   "source": [
    "For public endpoints, simply send a GET request.\n",
    "\n",
    "No API keys are required.\n"
   ]
  },
  {
   "cell_type": "markdown",
   "id": "5358b791d324d6d9",
   "metadata": {},
   "source": [
    "### Example: Accessing Public Data\n"
   ]
  },
  {
   "cell_type": "code",
   "execution_count": null,
   "id": "e773f2d4ae98f5ef",
   "metadata": {},
   "outputs": [],
   "source": [
    "# https://docs.backpack.exchange/#tag/Markets/operation/get_open_interest\n",
    "BASE_URL: str = \"https://api.backpack.exchange/\"  # base api url for all endpoints\n",
    "symbol: str = \"SOL_USDC_PERP\" # let's specify the symbol\n",
    "result_url: str = f\"{BASE_URL}api/v1/openInterest?symbol={symbol}\"  # add your argument as a query string. For GET requests you need only query string"
   ]
  },
  {
   "cell_type": "code",
   "execution_count": null,
   "id": "e58338995a15f886",
   "metadata": {},
   "outputs": [],
   "source": [
    "from json import JSONDecodeError\n",
    "\n",
    "response = requests.get(url=result_url) # make a get request\n",
    "print(f\"response status code: {response}\")\n",
    "if response.status_code == 200:\n",
    "    # make your code safe in case you receive unexpected data\n",
    "    try:\n",
    "        print(f\"response json: {response.json()}\") \n",
    "\n",
    "        open_interest: str = response.json()[0][\"openInterest\"]\n",
    "        print(f\"open interest: {open_interest}\")\n",
    "    except JSONDecodeError:\n",
    "        print(f\"response text if response isn't json: {response.text}\")\n",
    "else:\n",
    "    ..."
   ]
  },
  {
   "cell_type": "markdown",
   "id": "9eca71db77a77cc9",
   "metadata": {},
   "source": [
    "**Note:** If you have more than one argument, join them using the & symbol.\n"
   ]
  },
  {
   "cell_type": "markdown",
   "id": "4091f7674f764814",
   "metadata": {},
   "source": [
    "## Private Endpoints\n"
   ]
  },
  {
   "cell_type": "markdown",
   "id": "6776dbbd2508cee7",
   "metadata": {},
   "source": [
    "For private endpoints, we need to create specific headers and a request body (for POST requests). This requires authentication with your API keys.\n"
   ]
  },
  {
   "cell_type": "code",
   "execution_count": null,
   "id": "3415488d7c8a5c78",
   "metadata": {},
   "outputs": [],
   "source": [
    "import base64  # for base64 encoding the signature\n",
    "from time import time  # for timestamp generation\n",
    "import os  # to access environment variables\n",
    "\n",
    "from cryptography.hazmat.primitives.asymmetric import ed25519  # to create a private key for signing\n",
    "# from dotenv import load_dotenv, find_dotenv  # to load environment variables from .env file\n"
   ]
  },
  {
   "cell_type": "code",
   "execution_count": null,
   "id": "4e97079a36d85fd1",
   "metadata": {},
   "outputs": [],
   "source": [
    "# In production code, use this approach:\n",
    "# load_dotenv(find_dotenv())\n",
    "# public_key: str = os.getenv(\"PUBLIC_KEY\")\n",
    "# secret_key: str = os.getenv(\"SECRET_KEY\")\n",
    "\n",
    "# For demonstration purposes only - don't hardcode keys in production\n",
    "public_key: str = \"5+yQgwU0ZdJ/9s+GXfuPFfo7yQQpl9CgvQedJXne30o=\"\n",
    "secret_key: str = \"TDSkv44jf/iD/QCKkyCdixO+p1sfLXxk+PZH7mW/ams=\"  \n",
    "\n",
    "# Create private key from secret key\n",
    "private_key = ed25519.Ed25519PrivateKey.from_private_bytes(\n",
    "            base64.b64decode(secret_key)\n",
    "        )"
   ]
  },
  {
   "cell_type": "markdown",
   "id": "bedf73da1626b2be",
   "metadata": {},
   "source": [
    "### Example: Retrieving a Deposit Address\n",
    "\n",
    "Let's see how to retrieve a deposit address using the API:\n",
    "https://docs.backpack.exchange/#tag/Capital/operation/get_deposit_address\n"
   ]
  },
  {
   "cell_type": "code",
   "execution_count": null,
   "id": "4e7371a6877c0e0e",
   "metadata": {},
   "outputs": [],
   "source": [
    "# Generate timestamp and window parameters\n",
    "timestamp = int(time() * 1e3)  # Unix time in milliseconds\n",
    "window: str = \"5000\"  # Time window in milliseconds that the request is valid for\n"
   ]
  },
  {
   "cell_type": "markdown",
   "id": "3f4cc4993a642866",
   "metadata": {},
   "source": [
    "Now that we have our authentication components ready (`X-Timestamp`, `X-Window`, and `X-API-Key`), let's create the signature.\n"
   ]
  },
  {
   "cell_type": "code",
   "execution_count": null,
   "id": "629d6013de6b6fa3",
   "metadata": {},
   "outputs": [],
   "source": [
    "# Define the instruction for this API call\n",
    "instruction: str = \"depositAddressQuery\"\n",
    "sign_str = f\"instruction={instruction}\"\n",
    "\n",
    "# This endpoint requires the \"blockchain\" parameter\n",
    "params: dict = {\n",
    "    \"blockchain\": \"Solana\",\n",
    "}\n",
    "\n",
    "# Generate a valid query string from parameters\n",
    "sorted_params_list = []\n",
    "for key, value in sorted(params.items()):\n",
    "    if isinstance(value, bool):  # boolean variables should be lowercase in query strings\n",
    "        value = str(value).lower()\n",
    "    sorted_params_list.append(f\"{key}={value}\")\n",
    "sorted_params = \"&\".join(sorted_params_list)\n",
    "\n",
    "# Combine all parts of the signature string\n",
    "if sorted_params:\n",
    "    sign_str += \"&\" + sorted_params\n",
    "sign_str += f\"&timestamp={timestamp}&window={window}\" \n",
    "\n",
    "print(f\"Signature string: {sign_str}\")\n"
   ]
  },
  {
   "cell_type": "markdown",
   "id": "b8612bf2acd66b2",
   "metadata": {},
   "source": [
    "### Signing the Request\n",
    "\n",
    "Now let's sign the request with our private key:\n"
   ]
  },
  {
   "cell_type": "code",
   "execution_count": null,
   "id": "c4e33ca30a914d33",
   "metadata": {},
   "outputs": [],
   "source": [
    "# Sign the string with our private key\n",
    "signature_bytes = private_key.sign(sign_str.encode())\n",
    "encoded_signature = base64.b64encode(signature_bytes).decode()\n",
    "print(f\"Base64 encoded signature: {encoded_signature}\")\n"
   ]
  },
  {
   "cell_type": "markdown",
   "id": "63f76d67309b5fa5",
   "metadata": {},
   "source": [
    "### Creating Headers\n",
    "\n",
    "Create the required headers for the API request:\n"
   ]
  },
  {
   "cell_type": "code",
   "execution_count": null,
   "id": "3d5564f5f191b54a",
   "metadata": {},
   "outputs": [],
   "source": [
    "# Prepare the headers with all required authentication parameters\n",
    "headers = {\n",
    "    \"X-API-Key\": public_key,\n",
    "    \"X-Signature\": encoded_signature,\n",
    "    \"X-Timestamp\": str(timestamp),\n",
    "    \"X-Window\": window,\n",
    "    \"Content-Type\": \"application/json; charset=utf-8\",\n",
    "}\n"
   ]
  },
  {
   "cell_type": "markdown",
   "id": "ba19890d2b6ba669",
   "metadata": {},
   "source": [
    "### Sending the Request\n",
    "\n",
    "Now we can send the authenticated request to the API:\n"
   ]
  },
  {
   "cell_type": "code",
   "execution_count": null,
   "id": "9763ce37762e6e56",
   "metadata": {},
   "outputs": [],
   "source": [
    "# Send the GET request with our authentication headers\n",
    "url = \"https://api.backpack.exchange/wapi/v1/capital/deposit/address\"\n",
    "response = requests.get(url=url, headers=headers, params=params)\n",
    "print(response.json())"
   ]
  },
  {
   "cell_type": "markdown",
   "id": "fb5d2ae61c98f6f3",
   "metadata": {},
   "source": [
    "## Using POST Requests\n",
    "\n",
    "For `POST` requests, you need to include the JSON body and use the `post()` method instead of `get()`.\n"
   ]
  },
  {
   "cell_type": "markdown",
   "id": "aac79ad76007bab4",
   "metadata": {},
   "source": [
    "### Example: Executing an Order\n",
    "\n",
    "Let's see how to submit an order to the matching engine for execution using the API:\n",
    "https://api.backpack.exchange/api/v1/order\n"
   ]
  },
  {
   "cell_type": "code",
   "execution_count": null,
   "id": "a4d07c51ca6940a4",
   "metadata": {},
   "outputs": [],
   "source": [
    "# Generate timestamp and window parameters\n",
    "timestamp = int(time() * 1e3)  # Unix time in milliseconds\n",
    "window = \"5000\"  # Time window in milliseconds that the request is valid for\n",
    "\n",
    "# Define the instruction for this API call\n",
    "instruction = \"orderExecute\"\n",
    "sign_str = f\"instruction={instruction}\"\n",
    "\n",
    "# Create the order request body\n",
    "order_params = {\n",
    "    \"symbol\": \"SOL_USDC\",       # Required: The market for the order\n",
    "    \"side\": \"Bid\",              # Required: \"Bid\" (buy) or \"Ask\" (sell)\n",
    "    \"orderType\": \"Limit\",       # Required: \"Market\" or \"Limit\"\n",
    "    \"price\": \"170.50\",           # The order price (required for limit orders)\n",
    "    \"quantity\": \"1.0\",          # The order quantity\n",
    "    \"timeInForce\": \"GTC\",       # \"GTC\" (Good Till Cancelled), \"IOC\" (Immediate or Cancel), \"FOK\" (Fill or Kill)\n",
    "    \"clientId\": 123456,         # Custom order ID (optional)\n",
    "    \"selfTradePrevention\": \"RejectTaker\"  # Optional: \"RejectTaker\", \"RejectMaker\", \"RejectBoth\"\n",
    "}\n",
    "\n",
    "# Generate a valid query string from parameters\n",
    "sorted_params_list = []\n",
    "for key, value in sorted(order_params.items()):\n",
    "    if isinstance(value, bool):  # boolean variables should be lowercase in query strings\n",
    "        value = str(value).lower()\n",
    "    sorted_params_list.append(f\"{key}={value}\")\n",
    "sorted_params = \"&\".join(sorted_params_list)\n",
    "\n",
    "# Combine all parts of the signature string\n",
    "if sorted_params:\n",
    "    sign_str += \"&\" + sorted_params\n",
    "sign_str += f\"&timestamp={timestamp}&window={window}\" \n",
    "\n",
    "print(f\"Signature string: {sign_str}\")\n"
   ]
  },
  {
   "cell_type": "code",
   "execution_count": null,
   "id": "1e2c63287469bc7e",
   "metadata": {},
   "outputs": [],
   "source": [
    "# Sign the string with our private key\n",
    "signature_bytes = private_key.sign(sign_str.encode())\n",
    "encoded_signature = base64.b64encode(signature_bytes).decode()\n",
    "print(f\"Base64 encoded signature: {encoded_signature}\")\n"
   ]
  },
  {
   "cell_type": "code",
   "execution_count": null,
   "id": "4f6bac4dd37d6672",
   "metadata": {},
   "outputs": [],
   "source": [
    "# Prepare the headers with all required authentication parameters\n",
    "headers = {\n",
    "    \"X-API-Key\": public_key,\n",
    "    \"X-Signature\": encoded_signature,\n",
    "    \"X-Timestamp\": str(timestamp),\n",
    "    \"X-Window\": window,\n",
    "    \"Content-Type\": \"application/json; charset=utf-8\",\n",
    "}\n"
   ]
  },
  {
   "cell_type": "code",
   "execution_count": null,
   "id": "3ecc99bebeccab03",
   "metadata": {},
   "outputs": [],
   "source": [
    "# Send the POST request with our authentication headers and order parameters\n",
    "url = \"https://api.backpack.exchange/api/v1/order\"\n",
    "response = requests.post(url=url, headers=headers, json=order_params)\n",
    "print(f\"Response status code: {response.status_code}\")\n",
    "try:\n",
    "    print(f\"Response JSON: {response.json()}\")\n",
    "except JSONDecodeError:\n",
    "    print(f\"Response text: {response.text}\")\n"
   ]
  },
  {
   "cell_type": "markdown",
   "id": "ce49a1718432952d",
   "metadata": {},
   "source": [
    "## Sources\n",
    "\n",
    "SDK makes the development process much easier.\n",
    "\n",
    "Example SDK:\n",
    "https://github.com/sndmndss/bpx-py\n",
    "\n",
    "For more information, visit the official documentation:\n",
    "https://docs.backpack.exchange/\n"
   ]
  }
 ],
 "metadata": {
  "kernelspec": {
   "display_name": "Python 3 (ipykernel)",
   "language": "python",
   "name": "python3"
  },
  "language_info": {
   "codemirror_mode": {
    "name": "ipython",
    "version": 3
   },
   "file_extension": ".py",
   "mimetype": "text/x-python",
   "name": "python",
   "nbconvert_exporter": "python",
   "pygments_lexer": "ipython3",
   "version": "3.13.3"
  }
 },
 "nbformat": 4,
 "nbformat_minor": 5
}

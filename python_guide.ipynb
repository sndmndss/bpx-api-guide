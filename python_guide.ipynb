{
 "cells": [
  {
   "cell_type": "markdown",
   "id": "19992c49-ff20-4f68-b1b6-912d73c25494",
   "metadata": {},
   "source": [
    "# Python Backpack Exchange API guide"
   ]
  },
  {
   "cell_type": "markdown",
   "id": "052c9b08-ee0d-428f-a85d-4e22332779bc",
   "metadata": {},
   "source": [
    "Get your API keys if you are going to use account endpoints: https://backpack.exchange/portfolio/settings/api-keys"
   ]
  },
  {
   "cell_type": "markdown",
   "id": "0da41af5-05f7-4254-a869-e9115988a470",
   "metadata": {},
   "source": [
    "Install the required Python libraries:\n",
    "\n",
    "* cryptography – for X-Signature ([account endpoints](https://docs.backpack.exchange/#tag/Account) only)\n",
    "\n",
    "* requests – for making HTTP requests (or aiohttp if you prefer async)"
   ]
  },
  {
   "cell_type": "code",
   "execution_count": null,
   "id": "20c389ca-c8f3-44e9-82b3-69ea62604d93",
   "metadata": {
    "scrolled": true
   },
   "outputs": [],
   "source": [
    "pip3 install cryptography requests "
   ]
  },
  {
   "cell_type": "markdown",
   "id": "a44c39c8-fa14-4761-b596-4d2d430b01a7",
   "metadata": {},
   "source": [
    "Install dotenv-python to securely manage your keys using environment variables if you are going to use [account endpoints](https://docs.backpack.exchange/#tag/Account)"
   ]
  },
  {
   "cell_type": "code",
   "execution_count": null,
   "id": "dcea4f13-97b1-4f0c-9232-148004f823f7",
   "metadata": {},
   "outputs": [],
   "source": [
    "pip3 install python-dotenv"
   ]
  },
  {
   "cell_type": "markdown",
   "id": "fd322da9-fd37-452e-9198-4026db7de997",
   "metadata": {},
   "source": [
    "Create a .env file and store your keys like this:\n",
    "\n",
    "```\n",
    "PUBLIC_KEY=zDIJj9qneWIY0IYZ5aXoHcNMCm+XDhVcTssiT0HyY0A=\n",
    "SECRET_KEY=4odxgSUxFrC/zsKWZF4OQwYAgnNu9hnWH3NxWfLAPz4=\n",
    "```"
   ]
  },
  {
   "cell_type": "markdown",
   "id": "54fab376-d014-44af-8554-1644abbbac00",
   "metadata": {},
   "source": [
    "Create a .gitignore file and add .env to exclude it from version control.\n",
    "```\n",
    ".env\n",
    "```"
   ]
  },
  {
   "cell_type": "markdown",
   "id": "b4283d74-bb16-4276-b210-6d8e5fc11411",
   "metadata": {},
   "source": [
    "For all examples, we will use the synchronous requests library. Let's import it:"
   ]
  },
  {
   "cell_type": "code",
   "execution_count": 1,
   "id": "fd8bc772-dd4d-461b-9f9b-947241c2ce11",
   "metadata": {},
   "outputs": [],
   "source": [
    "import requests"
   ]
  },
  {
   "cell_type": "markdown",
   "id": "a3b56434-e9a9-45ce-b301-44270fdda6b5",
   "metadata": {},
   "source": [
    "## Public endpoints"
   ]
  },
  {
   "cell_type": "markdown",
   "id": "e9986a3e-c20d-4518-8288-78f2a61b3897",
   "metadata": {},
   "source": [
    "For public endpoints, simply send a GET request.\n",
    "\n",
    "No API keys are required."
   ]
  },
  {
   "cell_type": "markdown",
   "id": "b20dfc0e-0c27-4821-887f-c705af7176a9",
   "metadata": {},
   "source": [
    "### Example"
   ]
  },
  {
   "cell_type": "code",
   "execution_count": 2,
   "id": "09731f77-1bd9-4657-854e-c17483f9fbc6",
   "metadata": {},
   "outputs": [],
   "source": [
    "# https://docs.backpack.exchange/#tag/Markets/operation/get_open_interest\n",
    "BASE_URL: str = \"https://api.backpack.exchange/\"  # base api url for all endpoints\n",
    "symbol: str = \"SOL_USDC_PERP\" # let's specify the symbol\n",
    "result_url: str = f\"{BASE_URL}api/v1/openInterest?symbol={symbol}\"  # add your argument as a query string. For GET requests you need only query string"
   ]
  },
  {
   "cell_type": "code",
   "execution_count": 3,
   "id": "e3dfb2b7-8a24-47d4-805e-e8541515fb30",
   "metadata": {},
   "outputs": [
    {
     "name": "stdout",
     "output_type": "stream",
     "text": [
      "response status code: <Response [200]>\n",
      "response json: [{'openInterest': '81420.17', 'symbol': 'SOL_USDC_PERP', 'timestamp': 1743731167028}]\n",
      "open interest: 81420.17\n"
     ]
    }
   ],
   "source": [
    "from json import JSONDecodeError\n",
    "\n",
    "response = requests.get(url=result_url) # make a get request\n",
    "print(f\"response status code: {response}\")\n",
    "if response.status_code == 200:\n",
    "    # make your code safe in case you receive unexpected data\n",
    "    try:\n",
    "        print(f\"response json: {response.json()}\") \n",
    "        \n",
    "        open_interest: str = response.json()[0][\"openInterest\"]\n",
    "        print(f\"open interest: {open_interest}\")\n",
    "    except JSONDecodeError:\n",
    "        print(f\"response text if response isn't json: {response.text}\")\n",
    "else:\n",
    "    ..."
   ]
  },
  {
   "cell_type": "markdown",
   "id": "ff3f8f92-8952-46a8-9699-3fb74db9cde9",
   "metadata": {},
   "source": [
    "**If you have more than one argument, join them using the & symbol.**"
   ]
  },
  {
   "cell_type": "markdown",
   "id": "b7b3378c-8e83-4ec0-8c1e-85f4a15a6ff0",
   "metadata": {},
   "source": [
    "## Private endpoints"
   ]
  },
  {
   "cell_type": "markdown",
   "id": "6dbafe5a-b857-4dd5-925e-d026cfc278d8",
   "metadata": {},
   "source": [
    "**For private endpoints we need to create spesific headers and a request body (for POST requests)**"
   ]
  },
  {
   "cell_type": "code",
   "execution_count": 4,
   "id": "7de724d2-59fb-4f30-8b52-ea9557c0adf0",
   "metadata": {},
   "outputs": [],
   "source": [
    "import base64 # import base64 as \"The signature should then be base64 encoded\"\n",
    "from time import time # import time for timestamp \n",
    "import os  # import os – to access environment variables\n",
    "\n",
    "from cryptography.hazmat.primitives.asymmetric import ed25519 # import ed25519 to create a private key that will sign the message\n",
    "# from dotenv import load_dotenv, find_dotenv # to create env variables from your .env file"
   ]
  },
  {
   "cell_type": "code",
   "execution_count": 5,
   "id": "3cf90564-cb4e-44d0-9938-1867742259ce",
   "metadata": {},
   "outputs": [],
   "source": [
    "# use this in your code\n",
    "# load_dotenv(find_dotenv())\n",
    "# public_key: str = os.getenv(\"PUBLIC_KEY\")\n",
    "# secret_key: str = os.getenv(\"SECRET_KEY\")\n",
    "\n",
    "public_key: str = \"zDIJj9qneWIY0IYZ5aXoHcNMCm+XDhVcTssiT0HyY0A=\"  # unsafe!\n",
    "secret_key: str = \"4odxgSUxFrC/zsKWZF4OQwYAgnNu9hnWH3NxWfLAPz4=\"  # unsafe!\n",
    "\n",
    "private_key = ed25519.Ed25519PrivateKey.from_private_bytes(\n",
    "            base64.b64decode(secret_key)\n",
    "        )"
   ]
  },
  {
   "cell_type": "markdown",
   "id": "a71d15ce-96b6-4f11-b59b-87c2130b5b06",
   "metadata": {},
   "source": [
    "Let’s retrieve the deposit address.\n",
    "\n",
    "https://docs.backpack.exchange/#tag/Capital/operation/get_deposit_address"
   ]
  },
  {
   "cell_type": "code",
   "execution_count": 6,
   "id": "a283f3f6-fa2d-4960-a7a9-9594cb02383e",
   "metadata": {},
   "outputs": [],
   "source": [
    "timestamp = int(time() * 1e3)  # Unix time in milliseconds\n",
    "window: str = \"5000\" # Time window in milliseconds that the request is valid for. Increase if you have bad connection."
   ]
  },
  {
   "cell_type": "markdown",
   "id": "3826b978-8ce7-4c4d-94d4-809a5851e95f",
   "metadata": {},
   "source": [
    "Now that `X-Timestamp` (timestamp), `X-Window` (window) and `X-API-Key` (public_key) are ready. Let's create X-Signature"
   ]
  },
  {
   "cell_type": "code",
   "execution_count": 7,
   "id": "19a9a77f-cc4f-4d81-8c2b-cdbaddc73c15",
   "metadata": {},
   "outputs": [
    {
     "name": "stdout",
     "output_type": "stream",
     "text": [
      "instruction=depositAddressQuery&blockchain=Solana&timestamp=1743731167786&window=5000\n"
     ]
    }
   ],
   "source": [
    "instruction: str = \"depositAddressQuery\"\n",
    "sign_str = f\"instruction={instruction}\"\n",
    "\n",
    "# This endpoint requires the \"blockchain\" parameter\n",
    "params: dict = {\n",
    "    \"blockchain\": \"Solana\",\n",
    "}\n",
    "# Generic code to generate a valid query string from any parameters\n",
    "sorted_params_list = []\n",
    "for key, value in sorted(params.items()):\n",
    "    if isinstance(value, bool):  # boolean variables should be lowercase in query strings\n",
    "        value = str(value).lower()\n",
    "    sorted_params_list.append(f\"{key}={value}\")\n",
    "sorted_params = \"&\".join(sorted_params_list)\n",
    "\n",
    "\n",
    "if sorted_params:\n",
    "    sign_str += \"&\" + sorted_params\n",
    "sign_str += f\"&timestamp={timestamp}&window={window}\" \n",
    "\n",
    "print(sign_str)"
   ]
  },
  {
   "cell_type": "markdown",
   "id": "deccb1b7-bde3-429d-a1e6-002311f2b2de",
   "metadata": {},
   "source": [
    "**Now let's sign it!**"
   ]
  },
  {
   "cell_type": "code",
   "execution_count": 8,
   "id": "5f641945-81e4-4085-b674-1acd8a67b896",
   "metadata": {},
   "outputs": [
    {
     "name": "stdout",
     "output_type": "stream",
     "text": [
      "signed query string: lLc/zjqju853/hmCdb9dXtMhUijoetARooBn56hqbxPNXZTV9Gy18YcBjZ8+HuPDJHz6LmeB/366bJ5uTCZSAA==\n"
     ]
    }
   ],
   "source": [
    "signature_bytes = private_key.sign(sign_str.encode())\n",
    "encoded_signature = base64.b64encode(signature_bytes).decode()\n",
    "print(f\"signed query string: {encoded_signature}\")"
   ]
  },
  {
   "cell_type": "markdown",
   "id": "bf520899-ff94-494a-a463-108eea3e6e2e",
   "metadata": {},
   "source": [
    "**Create headers:**"
   ]
  },
  {
   "cell_type": "code",
   "execution_count": 9,
   "id": "02520280-2739-4d70-8b35-268636125fc4",
   "metadata": {},
   "outputs": [],
   "source": [
    "headers = {\n",
    "            \"X-API-Key\": public_key,\n",
    "            \"X-Signature\": encoded_signature,\n",
    "            \"X-Timestamp\": str(timestamp),\n",
    "            \"X-Window\": window,\n",
    "            \"Content-Type\": \"application/json; charset=utf-8\",\n",
    "        }"
   ]
  },
  {
   "cell_type": "markdown",
   "id": "ae47d9f0-e94a-4cef-80ec-4ae5fddf4e90",
   "metadata": {},
   "source": [
    "**Send request**:"
   ]
  },
  {
   "cell_type": "code",
   "execution_count": 10,
   "id": "d7fa82e7-9d75-4034-81d7-aa8b3bf3d8ab",
   "metadata": {},
   "outputs": [
    {
     "name": "stdout",
     "output_type": "stream",
     "text": [
      "{'address': '8PzpK8s8ezuSnXPjdPxR2FdZfzm5urkcUePrDL419PRC'}\n"
     ]
    }
   ],
   "source": [
    "url = \"https://api.backpack.exchange/wapi/v1/capital/deposit/address\"\n",
    "response = requests.get(url=url, headers=headers, params=params)\n",
    "print(response.json())"
   ]
  },
  {
   "cell_type": "markdown",
   "id": "c41cb86d-1930-4cc1-b51c-449936c785af",
   "metadata": {},
   "source": [
    "## Note:"
   ]
  },
  {
   "cell_type": "markdown",
   "id": "5ef88890-70a9-44cc-ba6c-93a8233fc2b2",
   "metadata": {},
   "source": [
    "For `POST` requests, include the `JSON` body and use the `post()` method."
   ]
  },
  {
   "cell_type": "code",
   "execution_count": 11,
   "id": "92151484-0294-42ae-b7ee-0cd54cb37e7c",
   "metadata": {},
   "outputs": [],
   "source": [
    "url_example = \"https://api.backpack.exchange/wapi/v1/example\"\n",
    "response = requests.post(url=url, headers=headers, json=params)"
   ]
  },
  {
   "cell_type": "markdown",
   "id": "dda3cfe2-039e-473f-ad63-7fcd5ff11738",
   "metadata": {},
   "source": [
    "## SDK"
   ]
  },
  {
   "cell_type": "markdown",
   "id": "b5223ef6-d8ca-4a4a-9402-184770f5064b",
   "metadata": {},
   "source": [
    "SDK makes the development process much easier!\n",
    "\n",
    "Example:\n",
    "\n",
    "https://github.com/sndmndss/bpx-py"
   ]
  }
 ],
 "metadata": {
  "kernelspec": {
   "display_name": "Python 3 (ipykernel)",
   "language": "python",
   "name": "python3"
  },
  "language_info": {
   "codemirror_mode": {
    "name": "ipython",
    "version": 3
   },
   "file_extension": ".py",
   "mimetype": "text/x-python",
   "name": "python",
   "nbconvert_exporter": "python",
   "pygments_lexer": "ipython3",
   "version": "3.13.2"
  }
 },
 "nbformat": 4,
 "nbformat_minor": 5
}

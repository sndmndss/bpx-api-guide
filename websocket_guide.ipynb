{
 "cells": [
  {
   "cell_type": "markdown",
   "id": "efb985b12ab70fcf",
   "metadata": {},
   "source": [
    "# Python WebSocket Guide for Backpack Exchange API\n"
   ]
  },
  {
   "cell_type": "markdown",
   "id": "6fcd4e5aa3095fb",
   "metadata": {},
   "source": [
    "This guide demonstrates how to use the Backpack Exchange WebSocket API with Python. WebSockets provide real-time data streams for market data and account updates.\n"
   ]
  },
  {
   "cell_type": "markdown",
   "id": "89a6ae0e043e894f",
   "metadata": {},
   "source": [
    "## Prerequisites\n",
    "\n",
    "Get your API keys if you are going to use private streams: https://backpack.exchange/portfolio/settings/api-keys\n"
   ]
  },
  {
   "cell_type": "markdown",
   "id": "77c891b4155d6744",
   "metadata": {},
   "source": [
    "Install the required Python libraries:\n",
    "\n",
    "* websockets - for WebSocket connections\n",
    "* cryptography - for X-Signature (private streams only)"
   ]
  },
  {
   "cell_type": "code",
   "execution_count": null,
   "id": "deecf03d33e73be3",
   "metadata": {},
   "outputs": [],
   "source": [
    "pip install websockets cryptography\n"
   ]
  },
  {
   "cell_type": "markdown",
   "id": "18ed148144b0865f",
   "metadata": {},
   "source": [
    "Install dotenv-python to securely manage your keys using environment variables if you are going to use private streams\n"
   ]
  },
  {
   "cell_type": "code",
   "execution_count": null,
   "id": "7f98f0c22bacc17e",
   "metadata": {},
   "outputs": [],
   "source": [
    "pip install python-dotenv\n"
   ]
  },
  {
   "cell_type": "markdown",
   "id": "c2dff18eea974f77",
   "metadata": {},
   "source": [
    "Create a .env file and store your keys like this:\n",
    "\n",
    "```\n",
    "PUBLIC_KEY=zDIJj9qneWIY0IYZ5aXoHcNMCm+XDhVcTssiT0HyY0A=\n",
    "SECRET_KEY=4odxgSUxFrC/zsKWZF4OQwYAgnNu9hnWH3NxWfLAPz4=\n",
    "```\n"
   ]
  },
  {
   "cell_type": "markdown",
   "id": "46cd988882487c49",
   "metadata": {},
   "source": [
    "Create a .gitignore file and add .env to exclude it from version control.\n",
    "```\n",
    ".env\n",
    "```\n"
   ]
  },
  {
   "cell_type": "markdown",
   "id": "895e00cabdee6ed1",
   "metadata": {},
   "source": [
    "Import the necessary libraries:\n"
   ]
  },
  {
   "cell_type": "code",
   "execution_count": null,
   "id": "7bf3d6b9415a1312",
   "metadata": {},
   "outputs": [],
   "source": [
    "import json\n",
    "import asyncio\n",
    "import websockets\n",
    "import base64\n",
    "from time import time\n",
    "import os\n",
    "from cryptography.hazmat.primitives.asymmetric import ed25519\n",
    "from dotenv import load_dotenv, find_dotenv\n"
   ]
  },
  {
   "cell_type": "markdown",
   "id": "3b21fd31f7efaf13",
   "metadata": {},
   "source": [
    "## WebSocket API Basics\n",
    "\n",
    "The Backpack Exchange WebSocket API is available at `wss://ws.backpack.exchange`.\n",
    "\n",
    "WebSocket streams are named using the format: `<type>.<symbol>`\n",
    "\n",
    "For example:\n",
    "- `depth.SOL_USDC` - Order book for SOL/USDC\n",
    "- `trade.SOL_USDC` - Trades for SOL/USDC\n",
    "\n",
    "\n"
   ]
  },
  {
   "cell_type": "markdown",
   "id": "b67a396f9e30435b",
   "metadata": {},
   "source": [
    "## Why Use Async with WebSockets\n",
    "\n",
    "WebSockets are designed for long-lived connections that receive data in real-time. Using asynchronous programming with WebSockets offers several advantages:\n",
    "\n",
    "1. **Non-blocking I/O**: Async allows your application to handle multiple connections without blocking the main thread.\n",
    "2. **Resource Efficiency**: Async uses fewer resources than creating multiple threads for concurrent connections.\n",
    "3. **Better Performance**: Async can handle many connections with less overhead than synchronous approaches.\n",
    "4. **Real-time Processing**: Async is ideal for real-time data streams where you need to continuously receive and process data.\n",
    "\n",
    "Synchronous approaches have several drawbacks:\n",
    "1. **Complex Threading**: Requires manual thread management\n",
    "2. **Resource Intensive**: Each connection needs its own thread\n",
    "3. **Difficult Error Handling**: Error propagation across threads is complex\n",
    "4. **Scaling Issues**: Does not scale well with many connections\n",
    "\n",
    "The async approach (as shown in our examples) is much cleaner, more efficient, and easier to maintain.\n"
   ]
  },
  {
   "cell_type": "markdown",
   "id": "52b7af8d69e34d16",
   "metadata": {},
   "source": [
    "## Public Streams\n",
    "\n",
    "Public streams don't require authentication. You can subscribe to them directly.\n"
   ]
  },
  {
   "cell_type": "markdown",
   "id": "88f57ccad6f3eb0b",
   "metadata": {},
   "source": [
    "### Example: Subscribing to a Public Stream\n"
   ]
  },
  {
   "cell_type": "code",
   "execution_count": null,
   "id": "44d1bb2b0e932438",
   "metadata": {},
   "outputs": [],
   "source": [
    "async def subscribe_to_public_stream():\n",
    "    uri = \"wss://ws.backpack.exchange\"\n",
    "\n",
    "    async with websockets.connect(uri) as websocket:\n",
    "        # Subscribe to the depth stream for SOL/USDC\n",
    "        subscribe_message = {\n",
    "            \"method\": \"SUBSCRIBE\",\n",
    "            \"params\": [\"depth.SOL_USDC\"]\n",
    "        }\n",
    "\n",
    "        await websocket.send(json.dumps(subscribe_message))\n",
    "        print(f\"Subscribed to depth.SOL_USDC stream\")\n",
    "\n",
    "        # Process incoming messages\n",
    "        while True:\n",
    "            response = await websocket.recv()\n",
    "            data = json.loads(response)\n",
    "            print(f\"Received: {data}\")\n",
    "\n",
    "            # You can process the data here based on your needs\n",
    "            # For example, update a local order book\n",
    "\n",
    "# To run the async function in a Jupyter notebook, use:\n",
    "# await subscribe_to_public_stream()\n",
    "#\n",
    "# TO run in your code\n",
    "# asyncio.run(subscribe_to_public_stream())  "
   ]
  },
  {
   "cell_type": "markdown",
   "id": "e3e3c33d91ebed21",
   "metadata": {},
   "source": [
    "### Example: Subscribing to Multiple Public Streams\n"
   ]
  },
  {
   "cell_type": "code",
   "execution_count": null,
   "id": "dff71ba6acaa85b",
   "metadata": {},
   "outputs": [],
   "source": [
    "async def subscribe_to_multiple_streams():\n",
    "    uri = \"wss://ws.backpack.exchange\"\n",
    "\n",
    "    async with websockets.connect(uri) as websocket:\n",
    "        # Subscribe to multiple streams\n",
    "        subscribe_message = {\n",
    "            \"method\": \"SUBSCRIBE\",\n",
    "            \"params\": [\"depth.SOL_USDC\", \"trade.SOL_USDC\"]\n",
    "        }\n",
    "\n",
    "        await websocket.send(json.dumps(subscribe_message))\n",
    "        print(f\"Subscribed to multiple streams\")\n",
    "\n",
    "        # Process incoming messages\n",
    "        while True:\n",
    "            response = await websocket.recv()\n",
    "            data = json.loads(response)\n",
    "            print(f\"Received: {data}\")\n",
    "\n",
    "            # Process different stream data based on the stream name\n",
    "            if \"stream\" in data and \"data\" in data:\n",
    "                stream_name = data[\"stream\"]\n",
    "                stream_data = data[\"data\"]\n",
    "\n",
    "                if stream_name.startswith(\"depth.\"):\n",
    "                    # Process order book data\n",
    "                    print(f\"Order book update: {stream_data}\")\n",
    "                elif stream_name.startswith(\"trade.\"):\n",
    "                    # Process trade data\n",
    "                    print(f\"Trade update: {stream_data}\")\n",
    "\n",
    "# Run the async function in a Jupyter notebook:\n",
    "# await subscribe_to_multiple_streams()\n",
    "#\n",
    "# To run in your code\n",
    "# asyncio.run(subscribe_to_multiple_streams())\n"
   ]
  },
  {
   "cell_type": "markdown",
   "id": "29f196b27a5ccc3b",
   "metadata": {},
   "source": [
    "## Private Streams\n",
    "\n",
    "Private streams require authentication with your API keys. These streams are prefixed with `account.` and provide updates about your account.\n"
   ]
  },
  {
   "cell_type": "markdown",
   "id": "e517c5f1eb50a8a4",
   "metadata": {},
   "source": [
    "### Authentication for Private Streams\n",
    "\n",
    "To authenticate for private streams, you need to:\n",
    "1. Create a signature string of the form: `instruction=subscribe&timestamp=1614550000000&window=5000`\n",
    "2. Sign it with your private key\n",
    "3. Include the signature data in your subscription message as an array: `\"signature\": [\"<verifying key>\", \"<signature>\", \"<timestamp>\", \"<window>\"]`\n",
    "\n",
    "Private streams are prefixed with `account.` and require signature data to be submitted in the subscribe parameters. The verifying key and signature should be base64 encoded.\n"
   ]
  },
  {
   "cell_type": "code",
   "execution_count": null,
   "id": "fc6de5efc2d9e86",
   "metadata": {},
   "outputs": [],
   "source": [
    "# Load API keys from .env file\n",
    "# load_dotenv(find_dotenv())\n",
    "# public_key = os.getenv(\"PUBLIC_KEY\")\n",
    "# secret_key = os.getenv(\"SECRET_KEY\")\n",
    "\n",
    "# For demonstration purposes only - don't hardcode keys in production\n",
    "public_key = \"5+yQgwU0ZdJ/9s+GXfuPFfo7yQQpl9CgvQedJXne30o=\"\n",
    "secret_key = \"TDSkv44jf/iD/QCKkyCdixO+p1sfLXxk+PZH7mW/ams=\"\n",
    "\n",
    "# Create private key from secret key\n",
    "private_key = ed25519.Ed25519PrivateKey.from_private_bytes(\n",
    "    base64.b64decode(secret_key)\n",
    ")\n"
   ]
  },
  {
   "cell_type": "markdown",
   "id": "69dff8bb5ad30ed5",
   "metadata": {},
   "source": [
    "### Example: Subscribing to a Private Stream\n"
   ]
  },
  {
   "cell_type": "code",
   "execution_count": null,
   "id": "5ae95545d1081bb",
   "metadata": {},
   "outputs": [],
   "source": [
    "async def subscribe_to_private_stream():\n",
    "    uri = \"wss://ws.backpack.exchange\"\n",
    "\n",
    "    # Generate authentication parameters\n",
    "    timestamp = int(time() * 1e3)  # Unix time in milliseconds\n",
    "    window = \"5000\"  # Time window in milliseconds\n",
    "\n",
    "    # Create signature string\n",
    "    sign_str = f\"instruction=subscribe&timestamp={timestamp}&window={window}\"\n",
    "\n",
    "    # Sign the string\n",
    "    signature_bytes = private_key.sign(sign_str.encode())\n",
    "    encoded_signature = base64.b64encode(signature_bytes).decode()\n",
    "\n",
    "    async with websockets.connect(uri) as websocket:\n",
    "        # Subscribe to the order stream with authentication\n",
    "        subscribe_message = {\n",
    "            \"method\": \"SUBSCRIBE\",\n",
    "            \"params\": [\"account.orderUpdate\"],\n",
    "            \"signature\": [public_key, encoded_signature, str(timestamp), window]\n",
    "        }\n",
    "\n",
    "        await websocket.send(json.dumps(subscribe_message))\n",
    "        print(f\"Subscribed to account.order stream\")\n",
    "\n",
    "        # Process incoming messages\n",
    "        while True:\n",
    "            response = await websocket.recv()\n",
    "            data = json.loads(response)\n",
    "            print(f\"Received: {data}\")\n",
    "\n",
    "            # Process order updates\n",
    "            if \"stream\" in data and data[\"stream\"] == \"account.order\" and \"data\" in data:\n",
    "                order_data = data[\"data\"]\n",
    "                print(f\"Order update: {order_data}\")\n",
    "\n",
    "# Run the async function in a Jupyter notebook:\n",
    "await subscribe_to_private_stream()\n",
    "# \n",
    "# If using nest_asyncio (recommended):\n",
    "# asyncio.run(subscribe_to_private_stream())\n"
   ]
  },
  {
   "cell_type": "markdown",
   "id": "eadfbd4ea98cb9a1",
   "metadata": {},
   "source": [
    "## WebSocket Ping/Pong\n",
    "\n",
    "WebSocket connections require a ping-pong mechanism to keep the connection alive. The good news is that the Python `websockets` library handles this automatically\n"
   ]
  },
  {
   "cell_type": "markdown",
   "id": "5c999fa90d0b27b",
   "metadata": {},
   "source": [
    "## Sources\n",
    "\n",
    "For more information visit the official documentation:\n",
    "https://docs.backpack.exchange/#tag/Streams"
   ]
  }
 ],
 "metadata": {
  "kernelspec": {
   "display_name": "Python 3 (ipykernel)",
   "language": "python",
   "name": "python3"
  },
  "language_info": {
   "codemirror_mode": {
    "name": "ipython",
    "version": 3
   },
   "file_extension": ".py",
   "mimetype": "text/x-python",
   "name": "python",
   "nbconvert_exporter": "python",
   "pygments_lexer": "ipython3",
   "version": "3.13.3"
  }
 },
 "nbformat": 4,
 "nbformat_minor": 5
}
